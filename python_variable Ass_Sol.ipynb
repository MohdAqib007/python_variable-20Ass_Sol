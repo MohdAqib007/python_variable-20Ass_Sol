{
 "cells": [
  {
   "cell_type": "code",
   "execution_count": 1,
   "id": "0ad47bf1-6a0c-4128-9b65-e46f0ebf14e1",
   "metadata": {},
   "outputs": [],
   "source": [
    "#Q1. Write all the conventions being followed while declaring a variable.\n",
    "#Ans-\n",
    "\n",
    "'''In Python, there are several conventions that are typically followed when declaring variables. \n",
    "These conventions help to make code more readable and maintainable. Here are some of the most common conventions:\n",
    "\n",
    "1. Use lowercase letters: Variable names should be in all lowercase letters, as this makes them easier to read and distinguish from class names.\n",
    "\n",
    "2. Separate words with underscores: If a variable name consists of multiple words, separate them with underscores, e.g., my_variable.\n",
    "\n",
    "3. Use descriptive names: Variable names should be descriptive and indicate the purpose of the variable. Avoid using single letter names like x or y.\n",
    "\n",
    "4. Avoid reserved keywords: Do not use reserved keywords like if, else, for, while, etc., as variable names.\n",
    "\n",
    "5. Use camelCase for class names: Class names should use CamelCase convention, which capitalizes the first letter of each word, e.g., MyClass.\n",
    "\n",
    "6. Use all uppercase letters for constants: Constants should be written in all uppercase letters, e.g., MY_CONSTANT.\n",
    "\n",
    "7. Avoid starting with numbers: Variable names should not start with a number.\n",
    "\n",
    "Here's an example of how to declare a variable following these conventions:'''\n",
    "\n",
    "# Declare a variable called 'my_variable'\n",
    "my_variable = 42\n",
    "\n",
    "#By following these conventions, your code will be more consistent and easier to read for yourself and others who may need to understand or modify your code.\n"
   ]
  },
  {
   "cell_type": "code",
   "execution_count": 2,
   "id": "d13ee9a0-61ca-4587-9359-32b62c6ab2bf",
   "metadata": {},
   "outputs": [
    {
     "data": {
      "text/plain": [
       "42"
      ]
     },
     "execution_count": 2,
     "metadata": {},
     "output_type": "execute_result"
    }
   ],
   "source": [
    "my_variable"
   ]
  },
  {
   "cell_type": "code",
   "execution_count": 3,
   "id": "26768593-ce8f-4bd4-b795-f75eb20b7b0a",
   "metadata": {},
   "outputs": [
    {
     "ename": "SyntaxError",
     "evalue": "invalid syntax (582008660.py, line 10)",
     "output_type": "error",
     "traceback": [
      "\u001b[0;36m  Cell \u001b[0;32mIn[3], line 10\u001b[0;36m\u001b[0m\n\u001b[0;31m    if = 10\u001b[0m\n\u001b[0m       ^\u001b[0m\n\u001b[0;31mSyntaxError\u001b[0m\u001b[0;31m:\u001b[0m invalid syntax\n"
     ]
    }
   ],
   "source": [
    "#Q2. What will happen if we declare a restricted keyword as a variable?\n",
    "#Ans-\n",
    "\n",
    "'''In Python, if you declare a restricted keyword as a variable, you will get a syntax error. \n",
    "Restricted keywords, also known as reserved words, are predefined keywords in Python that have a special meaning and are used to perform specific operations or functions. \n",
    "These keywords cannot be used as variable names or identifiers, as they are reserved for the language itself.'''\n",
    "\n",
    "#Example\n",
    "# Trying to use the 'if' keyword as a variable name\n",
    "if = 10\n",
    "\n",
    "# Output: SyntaxError: invalid syntax\n"
   ]
  },
  {
   "cell_type": "code",
   "execution_count": null,
   "id": "9319a702-a0db-4eb8-99b2-ce9a1b57a0d4",
   "metadata": {},
   "outputs": [],
   "source": [
    "#Q3. Can we actually declare a string as a variable name?\n",
    "#Ans-\n",
    "\n",
    "'''In Python, it is technically possible to declare a string as a variable name using the square bracket notation. \n",
    "However, it is generally not recommended as it can make the code less readable and harder to maintain.\n",
    "\n",
    "'''"
   ]
  },
  {
   "cell_type": "code",
   "execution_count": 4,
   "id": "6062a513-bbfb-44ea-812f-069c3632d40d",
   "metadata": {},
   "outputs": [
    {
     "name": "stdout",
     "output_type": "stream",
     "text": [
      "10\n"
     ]
    }
   ],
   "source": [
    "#Q4. Is it possible for us to declare “_” as a variable? If so, then write an example of it.\n",
    "#Ans-\n",
    "\n",
    "'''Yes, in Python, it is possible to declare a variable with a single underscore (_). \n",
    "The underscore can be used as a valid variable name, but it is typically used to represent a variable that is not going to be used in a program or to indicate a variable that is used for a specific purpose, such as a placeholder or an unused loop variable.\n",
    "Here is an example of declaring a variable with a single underscore:'''\n",
    "\n",
    "# Declaring a variable with a single underscore\n",
    "_ = 10\n",
    "\n",
    "# Using the variable in a print statement\n",
    "print(_)  # Output: 10\n",
    "\n",
    "'''Note that using a single underscore as a variable name is allowed in Python, but it is generally not recommended unless you have a specific reason to use it.'''"
   ]
  },
  {
   "cell_type": "code",
   "execution_count": null,
   "id": "a0279b1c-15a3-4bc4-a74c-f0ec863275dc",
   "metadata": {},
   "outputs": [],
   "source": [
    "#Q5. Using an example, explain how the variables in python are dynamic in nature.\n",
    "#Ans-\n",
    "\n",
    "'''In Python, variables are dynamic in nature, which means that they can be re-assigned to different values of different data types. \n",
    "This is in contrast to other programming languages like C++ or Java, where variables are statically typed and their type cannot be changed once they have been declared.\n",
    "\n",
    "Here is an example that demonstrates how variables in Python are dynamic in nature:'''\n",
    "\n",
    "# Declare a variable called my_variable and assign an integer value\n",
    "my_variable = 42\n",
    "\n",
    "# Print the value of my_variable\n",
    "print(my_variable)  # Output: 42\n",
    "\n",
    "# Re-assign the value of my_variable to a string\n",
    "my_variable = \"Hello, world!\"\n",
    "\n",
    "# Print the value of my_variable again\n",
    "print(my_variable)  # Output: Hello, world!\n",
    "\n",
    "\n",
    "'''This example shows that in Python, variables are dynamic in nature and their type can change based on the value assigned to them. \n",
    "This flexibility allows for more expressive and concise code, as well as easier prototyping and experimentation.'''"
   ]
  }
 ],
 "metadata": {
  "kernelspec": {
   "display_name": "Python 3 (ipykernel)",
   "language": "python",
   "name": "python3"
  },
  "language_info": {
   "codemirror_mode": {
    "name": "ipython",
    "version": 3
   },
   "file_extension": ".py",
   "mimetype": "text/x-python",
   "name": "python",
   "nbconvert_exporter": "python",
   "pygments_lexer": "ipython3",
   "version": "3.10.8"
  }
 },
 "nbformat": 4,
 "nbformat_minor": 5
}
